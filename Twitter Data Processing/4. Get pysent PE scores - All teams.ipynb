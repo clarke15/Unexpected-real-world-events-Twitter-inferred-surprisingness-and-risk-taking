{
 "cells": [
  {
   "cell_type": "code",
   "execution_count": 1,
   "metadata": {},
   "outputs": [],
   "source": [
    "import pandas as pd\n",
    "from _4_get_pysent_pe_csv import *"
   ]
  },
  {
   "cell_type": "code",
   "execution_count": null,
   "metadata": {},
   "outputs": [],
   "source": [
    "# List of teams and years to iterate through for file names\n",
    "team_search_queries = {'giants': [2012,2013],                  \n",
    "                      'devils': [2012,2013],\n",
    "                      'knicks': [2012,2013],\n",
    "                      'mets': [2012,2013],\n",
    "                      'yankees': [2012,2013]}"
   ]
  },
  {
   "cell_type": "code",
   "execution_count": 2,
   "metadata": {},
   "outputs": [],
   "source": [
    "output_pysent_pe_csv(2012,\"knicks\")"
   ]
  },
  {
   "cell_type": "code",
   "execution_count": null,
   "metadata": {},
   "outputs": [],
   "source": [
    "# Call the output_vader_pe_csv function - this outputs/saves down a csv with the data and PE of vader scores \n",
    "# In: ...2. Analysis\\Data\\vader_pe_scores\n",
    "for team, years in team_search_queries.items():\n",
    "    for year in years:\n",
    "        print(\"outputting: {} {}\".format(team, year))\n",
    "        output_pysent_pe_csv(year, team)\n",
    "        "
   ]
  }
 ],
 "metadata": {
  "kernelspec": {
   "display_name": "Python 3",
   "language": "python",
   "name": "python3"
  },
  "language_info": {
   "codemirror_mode": {
    "name": "ipython",
    "version": 3
   },
   "file_extension": ".py",
   "mimetype": "text/x-python",
   "name": "python",
   "nbconvert_exporter": "python",
   "pygments_lexer": "ipython3",
   "version": "3.8.5"
  }
 },
 "nbformat": 4,
 "nbformat_minor": 4
}
