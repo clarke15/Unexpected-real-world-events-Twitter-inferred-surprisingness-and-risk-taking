{
 "cells": [
  {
   "cell_type": "code",
   "execution_count": 56,
   "metadata": {},
   "outputs": [],
   "source": [
    "import pandas as pd\n",
    "import datetime\n",
    "from calendar import monthrange\n",
    "from os.path import exists\n",
    "import os\n",
    "from _4_get_pos_neu_pysent_pe_csv import *"
   ]
  },
  {
   "cell_type": "markdown",
   "metadata": {},
   "source": [
    "## Separate effects of positive and negative prediction errors"
   ]
  },
  {
   "cell_type": "code",
   "execution_count": 61,
   "metadata": {},
   "outputs": [],
   "source": [
    "# Read in the final data sets used in R regression\n",
    "df = pd.read_csv(r\"C:\\Users\\clark\\OneDrive - University of Warwick\\Diss\\2. Analysis\\R Regression\\aggregate_regression_input_7.csv\")"
   ]
  },
  {
   "cell_type": "code",
   "execution_count": 62,
   "metadata": {},
   "outputs": [],
   "source": [
    "only_pos_pe = df[df[\"sum_pe\"]>0]\n",
    "only_neg_pe = df[df[\"sum_pe\"]<0]"
   ]
  },
  {
   "cell_type": "code",
   "execution_count": 63,
   "metadata": {},
   "outputs": [],
   "source": [
    "only_pos_pe.to_csv(r\"C:\\Users\\clark\\OneDrive - University of Warwick\\Diss\\2. Analysis\\R Regression\\only_pos_days.csv\")\n",
    "only_neg_pe.to_csv(r\"C:\\Users\\clark\\OneDrive - University of Warwick\\Diss\\2. Analysis\\R Regression\\only_neg_days.csv\")\n"
   ]
  },
  {
   "cell_type": "markdown",
   "metadata": {},
   "source": [
    "## Create prediction errors with only neutral and positive sentiment scores"
   ]
  },
  {
   "cell_type": "code",
   "execution_count": 59,
   "metadata": {},
   "outputs": [],
   "source": [
    "# List of teams and years to iterate through for file names\n",
    "team_search_queries = {'giants': [2012],\n",
    "                      'devils': [2012],\n",
    "                      'knicks': [2012],\n",
    "                      'mets': [2012],\n",
    "                      'yankees': [2012]}"
   ]
  },
  {
   "cell_type": "code",
   "execution_count": 55,
   "metadata": {},
   "outputs": [
    {
     "data": {
      "text/plain": [
       "NEU    0.588464\n",
       "NEG    0.228319\n",
       "POS    0.183216\n",
       "Name: Total, dtype: float64"
      ]
     },
     "execution_count": 55,
     "metadata": {},
     "output_type": "execute_result"
    }
   ],
   "source": [
    "# Dataframe to populate with the sentiment counts\n",
    "sent_counts = pd.DataFrame()\n",
    "\n",
    "\n",
    "# Read in the sentiment score tables\n",
    "for team, years in team_search_queries.items():\n",
    "        \n",
    "        # Get the current file working directory\n",
    "        working_directory = os.getcwd()\n",
    "        \n",
    "        for year in years:\n",
    "        ### Check to see if the output csv file exists in the working directory already\n",
    "            \n",
    "            csv_file_name = r\"C:\\Users\\clark\\OneDrive - University of Warwick\\Diss\\2. Analysis\\Data\\pysent_scores\\pysent_scores\\Yearly pysent scores\\{}_{}_pysent.csv\".format(team, year)\n",
    "            file_path = csv_file_name\n",
    "\n",
    "            # read in the file\n",
    "            data = pd.read_csv(file_path, index_col = 0)\n",
    "          \n",
    "            # Get the frequency of sent scores\n",
    "            count = data[\"label\"].value_counts()\n",
    "            \n",
    "            sent_counts[team] = count\n",
    "            \n",
    "            \n",
    "sent_counts[\"Total\"] = sent_counts.sum(axis=1)\n",
    "\n",
    "sent_counts[\"Total\"]/sent_counts[\"Total\"].sum()"
   ]
  },
  {
   "cell_type": "markdown",
   "metadata": {},
   "source": [
    "### Run the prediction errors function for the positive/negative files"
   ]
  },
  {
   "cell_type": "code",
   "execution_count": 60,
   "metadata": {},
   "outputs": [
    {
     "name": "stdout",
     "output_type": "stream",
     "text": [
      "outputting: giants 2012\n",
      "outputting: devils 2012\n",
      "outputting: knicks 2012\n",
      "outputting: mets 2012\n",
      "outputting: yankees 2012\n"
     ]
    }
   ],
   "source": [
    "# NOTE THAT THIS IS USING THE UPDATED FUNCTION AND SO ONLY SELECTS ROWS THAT ARE POS/NEU \n",
    "\n",
    "for team, years in team_search_queries.items():\n",
    "    for year in years:\n",
    "        print(\"outputting: {} {}\".format(team, year))\n",
    "        output_pysent_pe_csv(year, team)"
   ]
  }
 ],
 "metadata": {
  "kernelspec": {
   "display_name": "Python 3",
   "language": "python",
   "name": "python3"
  },
  "language_info": {
   "codemirror_mode": {
    "name": "ipython",
    "version": 3
   },
   "file_extension": ".py",
   "mimetype": "text/x-python",
   "name": "python",
   "nbconvert_exporter": "python",
   "pygments_lexer": "ipython3",
   "version": "3.8.5"
  }
 },
 "nbformat": 4,
 "nbformat_minor": 4
}
