{
 "cells": [
  {
   "cell_type": "code",
   "execution_count": 1,
   "metadata": {},
   "outputs": [],
   "source": [
    "import pandas as pd\n",
    "from _4_get_distilbert_pe_csv import *\n"
   ]
  },
  {
   "cell_type": "code",
   "execution_count": 2,
   "metadata": {},
   "outputs": [],
   "source": [
    "# List of teams and years to iterate through for file names\n",
    "team_search_queries = {'giants': [2012],\n",
    "                      'devils': [2012],\n",
    "                      'knicks': [2012],\n",
    "                      'mets': [2012],\n",
    "                      'yankees': [2012]}"
   ]
  },
  {
   "cell_type": "code",
   "execution_count": 3,
   "metadata": {},
   "outputs": [
    {
     "name": "stdout",
     "output_type": "stream",
     "text": [
      "outputting: giants 2012\n",
      "outputting: devils 2012\n",
      "outputting: knicks 2012\n",
      "outputting: mets 2012\n",
      "outputting: yankees 2012\n"
     ]
    }
   ],
   "source": [
    "# Call the output_vader_pe_csv function - this outputs/saves down a csv with the data and PE of vader scores \n",
    "# In: ...2. Analysis\\Data\\vader_pe_scores\n",
    "for team, years in team_search_queries.items():\n",
    "    for year in years:\n",
    "        print(\"outputting: {} {}\".format(team, year))\n",
    "        output_distilbert_pe_csv(year, team)"
   ]
  },
  {
   "cell_type": "code",
   "execution_count": null,
   "metadata": {},
   "outputs": [],
   "source": []
  }
 ],
 "metadata": {
  "kernelspec": {
   "display_name": "Python 3",
   "language": "python",
   "name": "python3"
  },
  "language_info": {
   "codemirror_mode": {
    "name": "ipython",
    "version": 3
   },
   "file_extension": ".py",
   "mimetype": "text/x-python",
   "name": "python",
   "nbconvert_exporter": "python",
   "pygments_lexer": "ipython3",
   "version": "3.8.5"
  }
 },
 "nbformat": 4,
 "nbformat_minor": 4
}
