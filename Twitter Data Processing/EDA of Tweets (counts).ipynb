{
 "cells": [
  {
   "cell_type": "code",
   "execution_count": 1,
   "metadata": {},
   "outputs": [],
   "source": [
    "import pandas as pd\n",
    "import datetime\n",
    "from calendar import monthrange"
   ]
  },
  {
   "cell_type": "code",
   "execution_count": 2,
   "metadata": {},
   "outputs": [],
   "source": [
    "# List of teams and years to iterate through for file names\n",
    "team_search_queries = {'giants': [2012,2013],\n",
    "                      'rangers': [2012,2013],\n",
    "                      'islanders': [2012,2013],\n",
    "                      'devils': [2012,2013],\n",
    "                      'knicks': [2012,2013],\n",
    "                      'mets': [2012,2013],\n",
    "                      'yankees': [2012,2013]}"
   ]
  },
  {
   "cell_type": "code",
   "execution_count": 3,
   "metadata": {},
   "outputs": [],
   "source": [
    "def tweet_count(year, team, length = 20):\n",
    "    \n",
    "    # Load in the team dataframe\n",
    "    tweets_file_path = r\"C:\\Users\\clark\\OneDrive - University of Warwick\\Diss\\1. Twitter API\\Data\\Data - Scraped Tweets\\FINAL Tweets\"\n",
    "    tweets_file = \"\\{}_{}.csv\".format(team, year)\n",
    "    \n",
    "    # print(tweets_file_path + tweets_file)\n",
    "    team_df = pd.read_csv(tweets_file_path + tweets_file)\n",
    "    \n",
    "    # Change the \"created_at\" column to type date\n",
    "    team_df[\"created_at\"] = pd.to_datetime(team_df[\"created_at\"]).dt.date\n",
    "    \n",
    "    # Create two df- one that holds all the counts for each day, and the other < 20\n",
    "    count_df = pd.DataFrame(columns = [\"date\", \"tweet count\"])\n",
    "    too_short_df = pd.DataFrame(columns = [\"Team\", \"date\", \"tweet count\"])\n",
    "    \n",
    "    # Update index each day for a new row\n",
    "    index = 0\n",
    "    \n",
    "    # Iterate through each month\n",
    "    for month in range(1,13):\n",
    "        # How many days were in that month for the year\n",
    "        num_days = monthrange(year, month)[1]\n",
    "\n",
    "        # Iterate through each day of the month and calculate the mean sentiment score\n",
    "        for day  in range(1,num_days + 1):\n",
    "\n",
    "            # The current date\n",
    "            date_ = datetime.date(year,month, day) \n",
    "            # Select all rows of tweets for that day\n",
    "            rows = team_df[team_df['created_at'] == date_]\n",
    "\n",
    "            daily_count = len(team_df[team_df['created_at'] == date_])\n",
    "\n",
    "            count_df.at[index,\"date\"] = date_\n",
    "            count_df.at[index, \"tweet count\"] = daily_count\n",
    "\n",
    "            if daily_count <= length:\n",
    "                too_short_df.at[index,\"date\"] = date_\n",
    "                too_short_df.at[index, \"tweet count\"] = daily_count\n",
    "\n",
    "\n",
    "            index += 1\n",
    "\n",
    "    too_short_df[\"Team\"] = team\n",
    "    print(\"The number of days for {} {} with less than {} is: \".format(team, year, length), len(too_short_df))\n",
    "    \n",
    "    \n",
    "    \n",
    "    return too_short_df, count_df\n",
    "    "
   ]
  },
  {
   "cell_type": "code",
   "execution_count": 5,
   "metadata": {},
   "outputs": [
    {
     "name": "stdout",
     "output_type": "stream",
     "text": [
      "The number of days for giants 2012 with less than 10 is:  0\n",
      "Total tweets for giants 2012 is:  71694\n",
      "The number of days for giants 2013 with less than 10 is:  0\n",
      "Total tweets for giants 2013 is:  65343\n",
      "The number of days for rangers 2012 with less than 10 is:  145\n",
      "Total tweets for rangers 2012 is:  19847\n",
      "The number of days for rangers 2013 with less than 10 is:  85\n",
      "Total tweets for rangers 2013 is:  25820\n",
      "The number of days for islanders 2012 with less than 10 is:  348\n",
      "Total tweets for islanders 2012 is:  1054\n",
      "The number of days for islanders 2013 with less than 10 is:  273\n",
      "Total tweets for islanders 2013 is:  3304\n",
      "The number of days for devils 2012 with less than 10 is:  43\n",
      "Total tweets for devils 2012 is:  29497\n",
      "The number of days for devils 2013 with less than 10 is:  13\n",
      "Total tweets for devils 2013 is:  36328\n",
      "The number of days for knicks 2012 with less than 10 is:  64\n",
      "Total tweets for knicks 2012 is:  23482\n",
      "The number of days for knicks 2013 with less than 10 is:  155\n",
      "Total tweets for knicks 2013 is:  14568\n",
      "The number of days for mets 2012 with less than 10 is:  0\n",
      "Total tweets for mets 2012 is:  67212\n",
      "The number of days for mets 2013 with less than 10 is:  0\n",
      "Total tweets for mets 2013 is:  67099\n",
      "The number of days for yankees 2012 with less than 10 is:  0\n",
      "Total tweets for yankees 2012 is:  70542\n",
      "The number of days for yankees 2013 with less than 10 is:  0\n",
      "Total tweets for yankees 2013 is:  69506\n"
     ]
    }
   ],
   "source": [
    "# Find which team/year has too few tweets\n",
    "total_tweets = 0\n",
    "count_unused_tweets = 0\n",
    "\n",
    "for team, years in team_search_queries.items():\n",
    "    for year in years:\n",
    "        #print(team)\n",
    "        too_short_df, count_df = tweet_count(year, team, length = 10)\n",
    "        \n",
    "        # Counting the number of tweets that we are removing from rangers/islanders\n",
    "        if team == \"rangers\" or team == \"islanders\":\n",
    "            count_unused_tweets += count_df[\"tweet count\"].sum()\n",
    "        \n",
    "        total_tweets += count_df[\"tweet count\"].sum()\n",
    "        team_total_tweets = count_df[\"tweet count\"].sum()\n",
    "        \n",
    "        \n",
    "        print(\"Total tweets for {} {} is: \".format(team, year), team_total_tweets)"
   ]
  },
  {
   "cell_type": "code",
   "execution_count": 62,
   "metadata": {},
   "outputs": [
    {
     "name": "stdout",
     "output_type": "stream",
     "text": [
      "The total number of tweets is:  565296\n"
     ]
    }
   ],
   "source": [
    "print(\"The total number of tweets is: \",total_tweets)"
   ]
  },
  {
   "cell_type": "code",
   "execution_count": 66,
   "metadata": {},
   "outputs": [
    {
     "name": "stdout",
     "output_type": "stream",
     "text": [
      "The total number of tweets we use is :  515271\n"
     ]
    }
   ],
   "source": [
    "used_tweets = total_tweets-count_unused_tweets\n",
    "print(\"The total number of tweets we use is : \", used_tweets)"
   ]
  },
  {
   "cell_type": "code",
   "execution_count": null,
   "metadata": {},
   "outputs": [],
   "source": [
    "print(\"Average daily tweets is : \", str(used_tweets/730/5))"
   ]
  },
  {
   "cell_type": "code",
   "execution_count": 18,
   "metadata": {},
   "outputs": [],
   "source": [
    " # Load in the team dataframe\n",
    "tweets_file_path = r\"C:\\Users\\clark\\OneDrive - University of Warwick\\Diss\\1. Twitter API\\Data\\Data - Scraped Tweets\\FINAL Tweets\"\n",
    "tweets_file = \"\\{}_{}.csv\".format(\"islanders\", 2012)\n",
    "\n",
    "# print(tweets_file_path + tweets_file)\n",
    "test_df = pd.read_csv(tweets_file_path + tweets_file)"
   ]
  },
  {
   "cell_type": "code",
   "execution_count": 54,
   "metadata": {},
   "outputs": [],
   "source": [
    "# print the length of the original files for each month\n",
    "teams = [\"rangers\", \"knicks\"]\n",
    "months = list(range(1,13))"
   ]
  },
  {
   "cell_type": "code",
   "execution_count": 56,
   "metadata": {},
   "outputs": [
    {
     "name": "stdout",
     "output_type": "stream",
     "text": [
      "The length of rangers in 1 is :  2584\n",
      "The length of rangers in 2 is :  3173\n",
      "The length of rangers in 3 is :  2674\n",
      "The length of rangers in 4 is :  4367\n",
      "The length of rangers in 5 is :  4449\n",
      "The length of rangers in 6 is :  630\n",
      "The length of rangers in 7 is :  831\n",
      "The length of rangers in 8 is :  222\n",
      "The length of rangers in 9 is :  210\n",
      "The length of rangers in 10 is :  277\n",
      "The length of rangers in 11 is :  199\n",
      "The length of rangers in 12 is :  231\n",
      "The length of knicks in 1 is :  2306\n",
      "The length of knicks in 2 is :  3802\n",
      "The length of knicks in 3 is :  3496\n",
      "The length of knicks in 4 is :  3147\n",
      "The length of knicks in 5 is :  1708\n",
      "The length of knicks in 6 is :  619\n",
      "The length of knicks in 7 is :  1430\n",
      "The length of knicks in 8 is :  402\n",
      "The length of knicks in 9 is :  306\n",
      "The length of knicks in 10 is :  743\n",
      "The length of knicks in 11 is :  2653\n",
      "The length of knicks in 12 is :  2875\n"
     ]
    }
   ],
   "source": [
    "year = 2012\n",
    "for team in teams:\n",
    "    for month in months:\n",
    "        \n",
    "        # Load in the team dataframe\n",
    "        tweets_file_path = r\"C:\\Users\\clark\\OneDrive - University of Warwick\\Diss\\1. Twitter API\\Data\\Data - Scraped Tweets\\To delete\"\n",
    "        tweets_file = \"\\{}_{}_{}_tweets.csv\".format(month, team, year)\n",
    "\n",
    "        # print(tweets_file_path + tweets_file)\n",
    "        team_df = pd.read_csv(tweets_file_path + tweets_file)\n",
    "        \n",
    "        print(\"The length of {} in {} is : \".format(team,month), len(team_df))"
   ]
  }
 ],
 "metadata": {
  "kernelspec": {
   "display_name": "Python 3",
   "language": "python",
   "name": "python3"
  },
  "language_info": {
   "codemirror_mode": {
    "name": "ipython",
    "version": 3
   },
   "file_extension": ".py",
   "mimetype": "text/x-python",
   "name": "python",
   "nbconvert_exporter": "python",
   "pygments_lexer": "ipython3",
   "version": "3.8.5"
  }
 },
 "nbformat": 4,
 "nbformat_minor": 4
}
