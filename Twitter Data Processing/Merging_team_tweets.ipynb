{
 "cells": [
  {
   "cell_type": "code",
   "execution_count": 6,
   "metadata": {},
   "outputs": [],
   "source": [
    "import pandas as pd\n",
    "import glob\n",
    "\n",
    "from pathlib import Path\n",
    "\n"
   ]
  },
  {
   "cell_type": "code",
   "execution_count": 5,
   "metadata": {},
   "outputs": [],
   "source": [
    "# Function that selects the team/year and combines all the excel/pd dataframes and then saves down the csv\n",
    "def merge_tweet_files(team_year):\n",
    "    \n",
    "    # assign directory\n",
    "    directory = r'C:\\Users\\clark\\OneDrive - University of Warwick\\Diss\\1. Twitter API\\Data\\Data - Scraped Tweets\\FINAL Tweets\\Reformatted Monthly Team Tweets'\n",
    "    \n",
    "    # Creating an empty dataframe\n",
    "    cols = {\"author_id\": [], \"tweet_id\": [], \"text\": [], \"created_at\": []}\n",
    "    df = pd.DataFrame(data = cols)\n",
    "    \n",
    "    # Iterate over files in the directory that include the team name\n",
    "    for month in range(1,13):\n",
    "        \n",
    "        # team_year in the format \"devils_2012\"\n",
    "        files = Path(directory).glob('{}_{}*'.format(month, team_year))\n",
    "        for file in files:\n",
    "\n",
    "            df_month = pd.read_csv(file)\n",
    "\n",
    "            df = pd.concat([df, df_month])\n",
    "    \n",
    "    # Reset the index\n",
    "    df = df.reset_index()\n",
    "    \n",
    "    # Save to csv in the FINAL Tweets folder\n",
    "    location = r\"C:\\Users\\clark\\OneDrive - University of Warwick\\Diss\\1. Twitter API\\Data\\Data - Scraped Tweets\\FINAL Tweets\"\n",
    "    file_location = location + \"\\{}.csv\".format(team_year)\n",
    "    df.to_csv(file_location)\n",
    "    \n",
    "    "
   ]
  },
  {
   "cell_type": "markdown",
   "metadata": {},
   "source": [
    "### Note that any columns with \"DELETE\" in are removed in this function"
   ]
  },
  {
   "cell_type": "code",
   "execution_count": 25,
   "metadata": {},
   "outputs": [],
   "source": [
    "# PYSENT Files: Function that selects the team/year and combines all the excel/pd dataframes and then saves down the csv\n",
    "def merge_pysent_tweet_files(team_year):\n",
    "    \n",
    "    # assign directory\n",
    "    directory = r'C:\\Users\\clark\\OneDrive - University of Warwick\\Diss\\2. Analysis\\Data\\pysent_scores\\pysent_scores\\Monthly pysent scores'\n",
    "    \n",
    "    # Creating an empty dataframe to join each month to\n",
    "    cols = {\"author_id\": [], \"tweet_id\": [], \"text\": [], \"created_at\": [], \"label\" : [], \"score\" : []}\n",
    "    df = pd.DataFrame(data = cols)\n",
    "    \n",
    "    # Iterate over files in the directory that include the team name\n",
    "    for month in range(1,13):\n",
    "        \n",
    "        # team_year in the format \"devils_2012\"\n",
    "        files = Path(directory).glob('{}_{}*'.format(month, team_year))\n",
    "        for file in files:\n",
    "\n",
    "            df_month = pd.read_csv(file)\n",
    "            # Join the month to df\n",
    "            \n",
    "            # Remove all rows that have \"DELETE\" in them\n",
    "            df_month = df_month[df_month[\"label\"] != \"DELETE\"]\n",
    "            df = pd.concat([df, df_month])\n",
    "    \n",
    "    # Reset the index\n",
    "    df = df.reset_index()\n",
    "    \n",
    "    # Save to csv in the FINAL Tweets folder\n",
    "    location = r\"C:\\Users\\clark\\OneDrive - University of Warwick\\Diss\\2. Analysis\\Data\\pysent_scores\\pysent_scores\\Yearly pysent scores\"\n",
    "    file_location = location + \"\\{}_pysent.csv\".format(team_year)\n",
    "    df.to_csv(file_location)\n",
    "    \n",
    "    "
   ]
  },
  {
   "cell_type": "code",
   "execution_count": 22,
   "metadata": {},
   "outputs": [],
   "source": [
    "# List of possible teams and year\n",
    "teams_and_years = [\"yankees_2012\", \"yankees_2013\", \"mets_2012\", \"mets_2013\", \n",
    "                  \"knicks_2012\", \"knicks_2013\",  \"giants_2012\", \"giants_2013\",\n",
    "                  \"devils_2012\", \"devils_2013\"]\n",
    "# Not is use:  \"islanders_2012\", \"islanders_2013\" , \"rangers_2012\", \"rangers_2013\""
   ]
  },
  {
   "cell_type": "code",
   "execution_count": 26,
   "metadata": {},
   "outputs": [],
   "source": [
    "for t_y in teams_and_years:\n",
    "    \n",
    "    merge_pysent_tweet_files(t_y)"
   ]
  },
  {
   "cell_type": "code",
   "execution_count": 6,
   "metadata": {},
   "outputs": [],
   "source": [
    "merge_tweet_files(\"rangers_2012\")"
   ]
  }
 ],
 "metadata": {
  "kernelspec": {
   "display_name": "Python 3",
   "language": "python",
   "name": "python3"
  },
  "language_info": {
   "codemirror_mode": {
    "name": "ipython",
    "version": 3
   },
   "file_extension": ".py",
   "mimetype": "text/x-python",
   "name": "python",
   "nbconvert_exporter": "python",
   "pygments_lexer": "ipython3",
   "version": "3.8.5"
  }
 },
 "nbformat": 4,
 "nbformat_minor": 4
}
